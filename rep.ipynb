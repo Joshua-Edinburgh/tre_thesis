{
 "cells": [
  {
   "cell_type": "code",
   "execution_count": 5,
   "metadata": {},
   "outputs": [
    {
     "name": "stdout",
     "output_type": "stream",
     "text": [
      "The autoreload extension is already loaded. To reload it, use:\n",
      "  %reload_ext autoreload\n"
     ]
    }
   ],
   "source": [
    "%load_ext autoreload\n",
    "%autoreload 2\n",
    "\n",
    "import evals2\n",
    "\n",
    "import numpy as np\n",
    "import scipy\n",
    "import torch\n",
    "from torch import nn\n",
    "\n",
    "SEED = 0\n",
    "np.random.seed(SEED)\n",
    "torch.manual_seed(SEED)\n",
    "\n",
    "from matplotlib import pyplot as plt\n",
    "from pandas import DataFrame\n",
    "import seaborn as sns\n",
    "sns.set(font_scale=1.5)\n",
    "sns.set_style(\"ticks\", {'font.family': 'serif'})\n",
    "#plt.tight_layout()\n",
    "\n",
    "SEP = '__'"
   ]
  },
  {
   "cell_type": "code",
   "execution_count": 6,
   "metadata": {},
   "outputs": [],
   "source": [
    "unigrams = set()\n",
    "bigrams = {}\n",
    "with open('rep2_data/reddy.txt') as f:\n",
    "    next(f) # header\n",
    "    for line in f:\n",
    "        line = line.split()\n",
    "        w1, w2 = line[:2]\n",
    "        sim = float(line[6])\n",
    "        w1, _ = w1.split('-')\n",
    "        w2, _ = w2.split('-')\n",
    "        bigrams[w1, w2] = sim\n",
    "        unigrams.add(w1)\n",
    "        unigrams.add(w2)"
   ]
  },
  {
   "cell_type": "code",
   "execution_count": 7,
   "metadata": {},
   "outputs": [],
   "source": [
    "class Composition(nn.Module):\n",
    "    def forward(self, x, y):\n",
    "        return x + y\n",
    "    \n",
    "def ranks(arr):\n",
    "    return np.array(arr).argsort().argsort()\n",
    "\n",
    "def measure_comp(context, suffix):\n",
    "    print('----')\n",
    "    print(\"context: \"'%s%s' % (context, suffix))\n",
    "    vecs = {}\n",
    "    with open('rep2_data/model%d%s.vec' % (context, suffix)) as f:\n",
    "        for line in f:\n",
    "            word, *vec = line.split()\n",
    "            vec = np.asarray([float(v) for v in vec])\n",
    "            if SEP in word:\n",
    "                word = tuple(word.split(SEP))\n",
    "            if word in bigrams or word in unigrams:\n",
    "                assert word not in vecs\n",
    "                vecs[word] = vec\n",
    "    eprim = []\n",
    "    rprim = []\n",
    "    ecomp = []\n",
    "    rcomp = []\n",
    "    for w1, w2 in bigrams:\n",
    "        b = (w1, w2)\n",
    "        if not (w1 in vecs and w2 in vecs and b in vecs):\n",
    "            continue\n",
    "        eprim.append(w1)\n",
    "        rprim.append(vecs[w1])\n",
    "        eprim.append(w2)\n",
    "        rprim.append(vecs[w2])\n",
    "        ecomp.append(b)\n",
    "        rcomp.append(vecs[b])\n",
    "    errs = evals2.evaluate(rprim + rcomp, eprim + ecomp, Composition(), evals2.CosDist(), zero_init=False)\n",
    "    errs = errs[-len(ecomp):]\n",
    "    \n",
    "    scores = [bigrams[e] for e in ecomp]\n",
    "    \n",
    "    r_errs = ranks(errs)\n",
    "    r_scores = ranks(scores)\n",
    "    \n",
    "    data = DataFrame({'err': r_errs, 'score': r_scores})\n",
    "    sns.lmplot(x='err', y='score', data=data)\n",
    "    plt.xlabel('TRE (rank)')\n",
    "    plt.ylabel('compositionality (rank)')\n",
    "    #plt.ylim(0, 5)\n",
    "    plt.savefig('rep_ctx%d.pdf' % context, format='pdf')\n",
    "    plt.show()\n",
    "    print(scipy.stats.spearmanr(errs, scores))\n",
    "    \n",
    "    comb = zip(scores, errs, ecomp)\n",
    "    comb = sorted(comb, key=lambda x: x[1])\n",
    "    print(\"compositional:\")\n",
    "    print(\"%20s %20s %40s\" % (\"human score\", \"model err\", \"words\"))\n",
    "    for c in comb[:5]:\n",
    "        print(\"%20.2f %20.2f %40s\" % c)\n",
    "    print()\n",
    "    print(\"non-compositional:\")\n",
    "    print(\"%20s %20s %40s\" % (\"human score\", \"model err\", \"words\"))\n",
    "    for c in comb[-5:]:\n",
    "        print(\"%20.2f %20.2f %40s\" % c)"
   ]
  },
  {
   "cell_type": "code",
   "execution_count": null,
   "metadata": {
    "scrolled": false
   },
   "outputs": [
    {
     "name": "stdout",
     "output_type": "stream",
     "text": [
      "----\n",
      "context: 7\n",
      "184.9040985107422\n",
      "19.09400177001953\n",
      "9.937151908874512\n",
      "8.994105339050293\n"
     ]
    }
   ],
   "source": [
    "for context in [7]: #[1, 3, 5, 7]:\n",
    "    for suffix in ['']: # ['', '_tiny']:\n",
    "        measure_comp(context, suffix)"
   ]
  },
  {
   "cell_type": "code",
   "execution_count": null,
   "metadata": {},
   "outputs": [],
   "source": []
  }
 ],
 "metadata": {
  "kernelspec": {
   "display_name": "Python 3",
   "language": "python",
   "name": "python3"
  },
  "language_info": {
   "codemirror_mode": {
    "name": "ipython",
    "version": 3
   },
   "file_extension": ".py",
   "mimetype": "text/x-python",
   "name": "python",
   "nbconvert_exporter": "python",
   "pygments_lexer": "ipython3",
   "version": "3.6.2"
  }
 },
 "nbformat": 4,
 "nbformat_minor": 2
}
